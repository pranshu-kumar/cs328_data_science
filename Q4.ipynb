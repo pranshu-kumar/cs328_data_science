{
 "cells": [
  {
   "cell_type": "markdown",
   "metadata": {},
   "source": [
    "# CS328 Introduction To Data Science | Homework 02\n",
    "## Pranshu Kumar Gond (18110124)\n",
    "---"
   ]
  },
  {
   "cell_type": "code",
   "execution_count": 14,
   "metadata": {},
   "outputs": [
    {
     "name": "stdout",
     "output_type": "stream",
     "text": [
      "Collecting pyhash\n",
      "  Downloading pyhash-0.9.3.tar.gz (602 kB)\n",
      "\u001b[K     |████████████████████████████████| 602 kB 250 kB/s eta 0:00:01\n",
      "\u001b[?25hBuilding wheels for collected packages: pyhash\n",
      "  Building wheel for pyhash (setup.py) ... \u001b[?25ldone\n",
      "\u001b[?25h  Created wheel for pyhash: filename=pyhash-0.9.3-cp37-cp37m-linux_x86_64.whl size=3048919 sha256=9746deafe3a52c9da98f7d5eb6941dd6c24e0f52fc64b621604dda4a51647a4b\n",
      "  Stored in directory: /home/pranshu/.cache/pip/wheels/bb/d5/a3/bd57d75a2aad35e62fb67903bffc4ca558c3f9b128147a3b8f\n",
      "Successfully built pyhash\n",
      "Installing collected packages: pyhash\n",
      "Successfully installed pyhash-0.9.3\n"
     ]
    }
   ],
   "source": [
    "!pip install pyhash"
   ]
  },
  {
   "cell_type": "code",
   "execution_count": 1,
   "metadata": {},
   "outputs": [],
   "source": [
    "# Importing libraries\n",
    "import numpy as np\n",
    "import pandas as pd\n",
    "import matplotlib.pyplot as plt\n",
    "import random\n",
    "import pyhash\n",
    "from statistics import median"
   ]
  },
  {
   "cell_type": "markdown",
   "metadata": {},
   "source": [
    "# 1. Count-Min Sketch"
   ]
  },
  {
   "cell_type": "code",
   "execution_count": 2,
   "metadata": {},
   "outputs": [],
   "source": [
    "# Function to generate Hash Functions\n",
    "_memomask = {}\n",
    "def generate_hash_function(n):\n",
    "    mask = _memomask.get(n)\n",
    "#     print(mask)\n",
    "    if mask is None:\n",
    "        random.seed(n)\n",
    "        mask = _memomask[n] = random.getrandbits(32)\n",
    "\n",
    "    def my_hash(x):\n",
    "        return hash(str(x) + str(n)) ^ mask\n",
    "\n",
    "    return my_hash"
   ]
  },
  {
   "cell_type": "code",
   "execution_count": 14,
   "metadata": {},
   "outputs": [],
   "source": [
    "class CountMinSketch():\n",
    "    def __init__(self, d=5, k=100, stream=None, hash_functions=None):\n",
    "        '''\n",
    "        > d: depth \n",
    "        > k: given in question\n",
    "        > hash_functions: list of hash functions\n",
    "        '''\n",
    "#         print(\"Count-Min Sketch Data Structure\\n*******************************\\nParameters:\")\n",
    "        self.d = d\n",
    "#         print(\"Depth:\", d)\n",
    "        self.k = k\n",
    "        self.w = self.k//self.d\n",
    "#         print(\"Width:\", self.w)\n",
    "        self.stream = stream\n",
    "        self.hash_functions = hash_functions\n",
    "        self.indexes = []\n",
    "        assert(len(self.hash_functions) == d)\n",
    "        \n",
    "        # Initialize CM table\n",
    "        self.table = np.zeros([self.d,self.w])\n",
    "#         print(\"Table shape: \", self.table.shape)\n",
    "        \n",
    "    def insert(self, x):\n",
    "        '''\n",
    "        Function to insert x in the table\n",
    "        > x: tuple (j, cj) where j is the element and cj is the count\n",
    "        '''\n",
    "        xj, cj = x\n",
    "#         print(xj,cj)\n",
    "        for i in range(self.d):\n",
    "            idx = int(self.hash_functions[i](xj) % self.w)\n",
    "            self.table[i][idx] += cj\n",
    "    \n",
    "    def query(self, x):\n",
    "        freq_est = min([self.table[i][int(self.hash_functions[i](x) % self.w)]] for i in range(self.d))\n",
    "        return freq_est[0]"
   ]
  },
  {
   "cell_type": "markdown",
   "metadata": {},
   "source": [
    "# 2. Count Sketch"
   ]
  },
  {
   "cell_type": "code",
   "execution_count": 4,
   "metadata": {},
   "outputs": [],
   "source": [
    "class CountSketch():\n",
    "    def __init__(self, d=5, k=100):\n",
    "        self.d = d\n",
    "#         print(\"Depth:\", d)\n",
    "        self.k = k\n",
    "        self.w = self.k//self.d\n",
    "        \n",
    "        self.hashfunc = [pyhash.metro_64(seed = i) for i in range(d)]\n",
    "        self.signhash = [pyhash.metro_64(seed = i) for i in range(d,2*d)]\n",
    "        \n",
    "        self.table = np.zeros((self.d,self.w))\n",
    "    \n",
    "    def insert(self,x):\n",
    "        '''\n",
    "        Function to insert x in the table\n",
    "        > x: tuple (j, cj) where j is the element and cj is the count\n",
    "        '''\n",
    "        \n",
    "        xj, cj = x\n",
    "        for i in range(self.d):\n",
    "            idx = int(self.hashfunc[i](str(xj)) % self.w)\n",
    "            gi = 2*(self.signhash[i](str(xj)) % 2) - 1\n",
    "#             print(gi)\n",
    "            self.table[i][idx] += gi*cj\n",
    "    \n",
    "    def query(self, x):\n",
    "        result=[]\n",
    "        for i in range(self.d):\n",
    "            j = self.hashfunc[i](str(x)) % self.w\n",
    "            sign=2*(self.signhash[i](str(x)) % 2) - 1\n",
    "            result.append(sign*self.table[i][j])\n",
    "        return median(result)"
   ]
  },
  {
   "cell_type": "markdown",
   "metadata": {},
   "source": [
    "# 3. Misra-Gries Sketch"
   ]
  },
  {
   "cell_type": "code",
   "execution_count": 5,
   "metadata": {},
   "outputs": [],
   "source": [
    "from collections import Counter\n",
    "from tqdm import tqdm"
   ]
  },
  {
   "cell_type": "code",
   "execution_count": 6,
   "metadata": {},
   "outputs": [],
   "source": [
    "class MisraGries():\n",
    "    def __init__(self, k=100, stream=None):\n",
    "        self.k = k\n",
    "        self.stream = stream\n",
    "        self.counter = Counter()\n",
    "        \n",
    "    def process(self):\n",
    "        for xj, _ in tqdm(self.stream):\n",
    "            if len(self.counter) < self.k:\n",
    "                self.counter[xj] += 1\n",
    "            \n",
    "            elif xj in self.counter:\n",
    "                self.counter[xj] += 1\n",
    "            \n",
    "            else:\n",
    "                for key in list(self.counter.keys()):\n",
    "                    self.counter[key] -= 1\n",
    "                    if self.counter[key] == 0:\n",
    "                        del self.counter[k]\n",
    "    \n",
    "    def query(self, x):\n",
    "        return self.counter[x]"
   ]
  },
  {
   "cell_type": "markdown",
   "metadata": {},
   "source": [
    "# Testing"
   ]
  },
  {
   "cell_type": "code",
   "execution_count": 7,
   "metadata": {},
   "outputs": [
    {
     "name": "stdout",
     "output_type": "stream",
     "text": [
      "Number of elements in the stream: 1467345\n"
     ]
    }
   ],
   "source": [
    "file = open('train.data', 'r')\n",
    "lines = file.readlines()\n",
    "\n",
    "data = []\n",
    "for line in lines:\n",
    "    row = line.rstrip('\\n').split(' ')\n",
    "    row.pop(0)\n",
    "    row = list(map(int, row))\n",
    "    tup = (row[0], row[1])\n",
    "    data.append(tup)\n",
    "    \n",
    "print('Number of elements in the stream:',len(data))"
   ]
  },
  {
   "cell_type": "markdown",
   "metadata": {},
   "source": [
    "### Finding out the exact frequencies"
   ]
  },
  {
   "cell_type": "code",
   "execution_count": 8,
   "metadata": {},
   "outputs": [],
   "source": [
    "freq_dict = {}\n",
    "for tup in data:\n",
    "    x,_ = tup\n",
    "    freq_dict[x] = 0\n",
    "    \n",
    "for tup in data:\n",
    "    x,c = tup\n",
    "    freq_dict[x] += c"
   ]
  },
  {
   "cell_type": "markdown",
   "metadata": {},
   "source": [
    "Now we will extract the top 1000 frequencies from the `freq_dict` dictionary"
   ]
  },
  {
   "cell_type": "code",
   "execution_count": 9,
   "metadata": {},
   "outputs": [
    {
     "data": {
      "text/plain": [
       "Text(0, 0.5, 'Frequency')"
      ]
     },
     "execution_count": 9,
     "metadata": {},
     "output_type": "execute_result"
    },
    {
     "data": {
      "image/png": "[encoded data removed]",
      "text/plain": [
       "<Figure size 432x288 with 1 Axes>"
      ]
     },
     "metadata": {
      "needs_background": "light"
     },
     "output_type": "display_data"
    }
   ],
   "source": [
    "sorted_freq_dict = sorted(freq_dict.items(), key=lambda k:(k[1], k[0]))\n",
    "top_1000_words = sorted_freq_dict[-1000:]\n",
    "\n",
    "words = []\n",
    "freq = []\n",
    "for w, f in top_1000_words:\n",
    "#     print(f)\n",
    "    words.append(w)\n",
    "    freq.append(f)\n",
    "words_str = list(map(str, words))\n",
    "plt.bar(words_str, freq)\n",
    "# plt.plot(words_str, freq)\n",
    "plt.grid(axis='y')\n",
    "plt.tick_params(bottom=False, axis='x', labelbottom=False)\n",
    "plt.title(\"Top 1000 frequencies\")\n",
    "plt.ylabel(\"Frequency\")"
   ]
  },
  {
   "cell_type": "markdown",
   "metadata": {},
   "source": [
    "### Making the query set"
   ]
  },
  {
   "cell_type": "code",
   "execution_count": 10,
   "metadata": {},
   "outputs": [],
   "source": [
    "# random sample of 100 from top 1000 most frequent words\n",
    "queryset = random.sample(words, 100)\n",
    "ks = [100, 200, 500, 1000, 2000]"
   ]
  },
  {
   "cell_type": "markdown",
   "metadata": {},
   "source": [
    "## 1. Testing Count-Min Sketch"
   ]
  },
  {
   "cell_type": "code",
   "execution_count": 15,
   "metadata": {},
   "outputs": [
    {
     "name": "stderr",
     "output_type": "stream",
     "text": [
      "100%|██████████| 1467345/1467345 [00:11<00:00, 124487.61it/s]\n",
      "  1%|          | 11559/1467345 [00:00<00:12, 115582.39it/s]"
     ]
    },
    {
     "name": "stdout",
     "output_type": "stream",
     "text": [
      "Error for k = 100: 148.51003426823584\n"
     ]
    },
    {
     "name": "stderr",
     "output_type": "stream",
     "text": [
      "100%|██████████| 1467345/1467345 [00:11<00:00, 123673.68it/s]\n",
      "  1%|          | 11753/1467345 [00:00<00:12, 117520.59it/s]"
     ]
    },
    {
     "name": "stdout",
     "output_type": "stream",
     "text": [
      "Error for k = 200: 67.0382681333721\n"
     ]
    },
    {
     "name": "stderr",
     "output_type": "stream",
     "text": [
      "100%|██████████| 1467345/1467345 [00:11<00:00, 126049.40it/s]\n",
      "  1%|          | 11161/1467345 [00:00<00:13, 111608.51it/s]"
     ]
    },
    {
     "name": "stdout",
     "output_type": "stream",
     "text": [
      "Error for k = 500: 22.207088804191354\n"
     ]
    },
    {
     "name": "stderr",
     "output_type": "stream",
     "text": [
      "100%|██████████| 1467345/1467345 [00:11<00:00, 124381.34it/s]\n",
      "  1%|          | 11446/1467345 [00:00<00:12, 114451.92it/s]"
     ]
    },
    {
     "name": "stdout",
     "output_type": "stream",
     "text": [
      "Error for k = 1000: 9.643875384848691\n"
     ]
    },
    {
     "name": "stderr",
     "output_type": "stream",
     "text": [
      "100%|██████████| 1467345/1467345 [00:12<00:00, 122163.53it/s]"
     ]
    },
    {
     "name": "stdout",
     "output_type": "stream",
     "text": [
      "Error for k = 2000: 4.0289604941631545\n"
     ]
    },
    {
     "name": "stderr",
     "output_type": "stream",
     "text": [
      "\n"
     ]
    }
   ],
   "source": [
    "hash_functions = [generate_hash_function(i) for i in range(5)]\n",
    "\n",
    "\n",
    "avg_errors_cm = []\n",
    "for k in ks:\n",
    "    cmsketch = CountMinSketch(d=5, k=k, hash_functions=hash_functions)\n",
    "    # Insert in CM Sketch\n",
    "    for tup in tqdm(data):\n",
    "        cmsketch.insert(tup)\n",
    "    avg_err = cal_avg_error(cmsketch)\n",
    "    print(\"Error for k = {}: {}\".format(k, avg_err))\n",
    "    avg_errors_cm.append(avg_err)"
   ]
  },
  {
   "cell_type": "markdown",
   "metadata": {},
   "source": [
    "## 2. Testing Count Sketch "
   ]
  },
  {
   "cell_type": "code",
   "execution_count": 13,
   "metadata": {},
   "outputs": [
    {
     "name": "stderr",
     "output_type": "stream",
     "text": [
      "100%|██████████| 1467345/1467345 [00:20<00:00, 70844.30it/s]\n",
      "  0%|          | 6691/1467345 [00:00<00:21, 66904.48it/s]"
     ]
    },
    {
     "name": "stdout",
     "output_type": "stream",
     "text": [
      "Error for k = 100: 25.227872614318308\n"
     ]
    },
    {
     "name": "stderr",
     "output_type": "stream",
     "text": [
      "100%|██████████| 1467345/1467345 [00:20<00:00, 71962.01it/s]\n",
      "  0%|          | 6599/1467345 [00:00<00:22, 65989.59it/s]"
     ]
    },
    {
     "name": "stdout",
     "output_type": "stream",
     "text": [
      "Error for k = 200: 13.431422498120686\n"
     ]
    },
    {
     "name": "stderr",
     "output_type": "stream",
     "text": [
      "100%|██████████| 1467345/1467345 [00:20<00:00, 71493.87it/s]\n",
      "  0%|          | 6623/1467345 [00:00<00:22, 66228.96it/s]"
     ]
    },
    {
     "name": "stdout",
     "output_type": "stream",
     "text": [
      "Error for k = 500: 4.768509666263202\n"
     ]
    },
    {
     "name": "stderr",
     "output_type": "stream",
     "text": [
      "100%|██████████| 1467345/1467345 [00:20<00:00, 69960.35it/s]\n",
      "  0%|          | 6415/1467345 [00:00<00:22, 64148.68it/s]"
     ]
    },
    {
     "name": "stdout",
     "output_type": "stream",
     "text": [
      "Error for k = 1000: 2.079657330476575\n"
     ]
    },
    {
     "name": "stderr",
     "output_type": "stream",
     "text": [
      "100%|██████████| 1467345/1467345 [00:21<00:00, 69231.12it/s]"
     ]
    },
    {
     "name": "stdout",
     "output_type": "stream",
     "text": [
      "Error for k = 2000: 1.380486716955597\n"
     ]
    },
    {
     "name": "stderr",
     "output_type": "stream",
     "text": [
      "\n"
     ]
    }
   ],
   "source": [
    "avg_errors_cs = []\n",
    "# print(\"Testing Count Sketch\\n\")\n",
    "for k in ks:\n",
    "    cs = CountSketch(k=k)\n",
    "    for tup in tqdm(data):\n",
    "        cs.insert(tup)\n",
    "    avg_err = cal_avg_error(cs)\n",
    "    print(\"Error for k = {}: {}\".format(k, avg_err))\n",
    "    avg_errors_cs.append(avg_err)"
   ]
  },
  {
   "cell_type": "markdown",
   "metadata": {},
   "source": [
    "## 3. Testing Misra Gries"
   ]
  },
  {
   "cell_type": "code",
   "execution_count": 16,
   "metadata": {},
   "outputs": [
    {
     "name": "stderr",
     "output_type": "stream",
     "text": [
      "100%|██████████| 1467345/1467345 [00:45<00:00, 32225.45it/s]\n",
      "  0%|          | 1797/1467345 [00:00<01:21, 17961.79it/s]"
     ]
    },
    {
     "name": "stdout",
     "output_type": "stream",
     "text": [
      "Error for k = 100: 66.72979988391589\n"
     ]
    },
    {
     "name": "stderr",
     "output_type": "stream",
     "text": [
      "100%|██████████| 1467345/1467345 [01:26<00:00, 16958.19it/s]\n",
      "  0%|          | 1200/1467345 [00:00<02:02, 11985.72it/s]"
     ]
    },
    {
     "name": "stdout",
     "output_type": "stream",
     "text": [
      "Error for k = 200: 131.33106527202182\n"
     ]
    },
    {
     "name": "stderr",
     "output_type": "stream",
     "text": [
      "100%|██████████| 1467345/1467345 [03:05<00:00, 7929.09it/s]\n",
      "  0%|          | 1787/1467345 [00:00<01:22, 17835.57it/s]"
     ]
    },
    {
     "name": "stdout",
     "output_type": "stream",
     "text": [
      "Error for k = 500: 203.69858135985604\n"
     ]
    },
    {
     "name": "stderr",
     "output_type": "stream",
     "text": [
      "100%|██████████| 1467345/1467345 [04:58<00:00, 4915.57it/s]\n",
      "  0%|          | 4429/1467345 [00:00<00:33, 44111.57it/s]"
     ]
    },
    {
     "name": "stdout",
     "output_type": "stream",
     "text": [
      "Error for k = 1000: 438.30335535302265\n"
     ]
    },
    {
     "name": "stderr",
     "output_type": "stream",
     "text": [
      "100%|██████████| 1467345/1467345 [07:28<00:00, 3272.89it/s]"
     ]
    },
    {
     "name": "stdout",
     "output_type": "stream",
     "text": [
      "Error for k = 2000: 585.7608237509776\n"
     ]
    },
    {
     "name": "stderr",
     "output_type": "stream",
     "text": [
      "\n"
     ]
    }
   ],
   "source": [
    "avg_errors_mg = []\n",
    "for k in ks:\n",
    "    mg = MisraGries(k=k, stream=data)\n",
    "    mg.process()\n",
    "    avg_error = cal_avg_error(mg)\n",
    "    print(\"Error for k = {}: {}\".format(k, avg_error))\n",
    "    avg_errors_mg.append(avg_error)"
   ]
  },
  {
   "cell_type": "code",
   "execution_count": 22,
   "metadata": {},
   "outputs": [
    {
     "data": {
      "text/plain": [
       "[66.72979988391589,\n",
       " 131.33106527202182,\n",
       " 203.69858135985604,\n",
       " 438.30335535302265,\n",
       " 585.7608237509776]"
      ]
     },
     "execution_count": 22,
     "metadata": {},
     "output_type": "execute_result"
    }
   ],
   "source": [
    "avg_errors_mg"
   ]
  },
  {
   "cell_type": "markdown",
   "metadata": {},
   "source": [
    "## Calculating Average Error"
   ]
  },
  {
   "cell_type": "code",
   "execution_count": 12,
   "metadata": {},
   "outputs": [],
   "source": [
    "def cal_avg_error(sketch):\n",
    "    avg_error = 0\n",
    "    for w in queryset:\n",
    "        est_freq = sketch.query(w)\n",
    "        error = abs(freq_dict[w]-est_freq)/freq_dict[w]\n",
    "        avg_error += error\n",
    "    avg_error = avg_error/100\n",
    "    return avg_error"
   ]
  },
  {
   "cell_type": "markdown",
   "metadata": {},
   "source": [
    "## Plotting"
   ]
  },
  {
   "cell_type": "code",
   "execution_count": 26,
   "metadata": {},
   "outputs": [
    {
     "data": {
      "image/png": "[encoded data removed]",
      "text/plain": [
       "<Figure size 432x288 with 1 Axes>"
      ]
     },
     "metadata": {
      "needs_background": "light"
     },
     "output_type": "display_data"
    }
   ],
   "source": [
    "ks_str = list(map(str, ks))\n",
    "\n",
    "plt.plot(ks_str, avg_errors_cm, label='Count Min')\n",
    "plt.plot(ks_str, avg_errors_cs, label='Count Sketch')\n",
    "plt.plot(ks_str, avg_errors_mg, label='Misra-Gries')\n",
    "# plt.bar(ks_str, a, color='g', alpha=0.5)\n",
    "plt.xlabel(\"Value of k\")\n",
    "plt.ylabel(\"Error\")\n",
    "plt.legend()\n",
    "plt.grid()\n",
    "plt.title(\"Error vs value of k\")\n",
    "plt.show()"
   ]
  },
  {
   "cell_type": "markdown",
   "metadata": {},
   "source": [
    "## Table"
   ]
  },
  {
   "cell_type": "code",
   "execution_count": 27,
   "metadata": {},
   "outputs": [
    {
     "data": {
      "text/html": [
       "<div>\n",
       "<style scoped>\n",
       "    .dataframe tbody tr th:only-of-type {\n",
       "        vertical-align: middle;\n",
       "    }\n",
       "\n",
       "    .dataframe tbody tr th {\n",
       "        vertical-align: top;\n",
       "    }\n",
       "\n",
       "    .dataframe thead th {\n",
       "        text-align: right;\n",
       "    }\n",
       "</style>\n",
       "<table border=\"1\" class=\"dataframe\">\n",
       "  <thead>\n",
       "    <tr style=\"text-align: right;\">\n",
       "      <th></th>\n",
       "      <th>Value of k</th>\n",
       "      <th>Avg. Error (Count Sketch)</th>\n",
       "      <th>Avg. Error (Count Min Sketch)</th>\n",
       "      <th>Avg. Error (Misra-Gries)</th>\n",
       "    </tr>\n",
       "  </thead>\n",
       "  <tbody>\n",
       "    <tr>\n",
       "      <th>0</th>\n",
       "      <td>100</td>\n",
       "      <td>25.227873</td>\n",
       "      <td>148.510034</td>\n",
       "      <td>66.729800</td>\n",
       "    </tr>\n",
       "    <tr>\n",
       "      <th>1</th>\n",
       "      <td>200</td>\n",
       "      <td>13.431422</td>\n",
       "      <td>67.038268</td>\n",
       "      <td>131.331065</td>\n",
       "    </tr>\n",
       "    <tr>\n",
       "      <th>2</th>\n",
       "      <td>500</td>\n",
       "      <td>4.768510</td>\n",
       "      <td>22.207089</td>\n",
       "      <td>203.698581</td>\n",
       "    </tr>\n",
       "    <tr>\n",
       "      <th>3</th>\n",
       "      <td>1000</td>\n",
       "      <td>2.079657</td>\n",
       "      <td>9.643875</td>\n",
       "      <td>438.303355</td>\n",
       "    </tr>\n",
       "    <tr>\n",
       "      <th>4</th>\n",
       "      <td>2000</td>\n",
       "      <td>1.380487</td>\n",
       "      <td>4.028960</td>\n",
       "      <td>585.760824</td>\n",
       "    </tr>\n",
       "  </tbody>\n",
       "</table>\n",
       "</div>"
      ],
      "text/plain": [
       "  Value of k  Avg. Error (Count Sketch)  Avg. Error (Count Min Sketch)  \\\n",
       "0        100                  25.227873                     148.510034   \n",
       "1        200                  13.431422                      67.038268   \n",
       "2        500                   4.768510                      22.207089   \n",
       "3       1000                   2.079657                       9.643875   \n",
       "4       2000                   1.380487                       4.028960   \n",
       "\n",
       "   Avg. Error (Misra-Gries)  \n",
       "0                 66.729800  \n",
       "1                131.331065  \n",
       "2                203.698581  \n",
       "3                438.303355  \n",
       "4                585.760824  "
      ]
     },
     "execution_count": 27,
     "metadata": {},
     "output_type": "execute_result"
    }
   ],
   "source": [
    "df = pd.DataFrame(\n",
    "    {\n",
    "        'Value of k':ks_str,\n",
    "        'Avg. Error (Count Sketch)':avg_errors_cs,\n",
    "        'Avg. Error (Count Min Sketch)':avg_errors_cm,\n",
    "        'Avg. Error (Misra-Gries)':avg_errors_mg\n",
    "        \n",
    "    }\n",
    ")\n",
    "\n",
    "df"
   ]
  }
 ],
 "metadata": {
  "kernelspec": {
   "display_name": "Python 3",
   "language": "python",
   "name": "python3"
  },
  "language_info": {
   "codemirror_mode": {
    "name": "ipython",
    "version": 3
   },
   "file_extension": ".py",
   "mimetype": "text/x-python",
   "name": "python",
   "nbconvert_exporter": "python",
   "pygments_lexer": "ipython3",
   "version": "3.7.6"
  }
 },
 "nbformat": 4,
 "nbformat_minor": 4
}
